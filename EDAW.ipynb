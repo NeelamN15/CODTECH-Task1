{
 "cells": [
  {
   "cell_type": "code",
   "execution_count": 1,
   "id": "9fd3454d",
   "metadata": {},
   "outputs": [
    {
     "data": {
      "text/html": [
       "<div>\n",
       "<style scoped>\n",
       "    .dataframe tbody tr th:only-of-type {\n",
       "        vertical-align: middle;\n",
       "    }\n",
       "\n",
       "    .dataframe tbody tr th {\n",
       "        vertical-align: top;\n",
       "    }\n",
       "\n",
       "    .dataframe thead th {\n",
       "        text-align: right;\n",
       "    }\n",
       "</style>\n",
       "<table border=\"1\" class=\"dataframe\">\n",
       "  <thead>\n",
       "    <tr style=\"text-align: right;\">\n",
       "      <th></th>\n",
       "      <th>SL</th>\n",
       "      <th>State_UT</th>\n",
       "      <th>Year_2019</th>\n",
       "      <th>Year_2020</th>\n",
       "      <th>Year_2021</th>\n",
       "      <th>Mid_Year_Projected_Population_In_Lakhs_2021</th>\n",
       "      <th>Rate_Of_Total_Crime _Against_Women_2021</th>\n",
       "      <th>Chargesheeting_Rate_2021</th>\n",
       "    </tr>\n",
       "  </thead>\n",
       "  <tbody>\n",
       "    <tr>\n",
       "      <th>0</th>\n",
       "      <td>STATES:</td>\n",
       "      <td>NaN</td>\n",
       "      <td>NaN</td>\n",
       "      <td>NaN</td>\n",
       "      <td>NaN</td>\n",
       "      <td>NaN</td>\n",
       "      <td>NaN</td>\n",
       "      <td>NaN</td>\n",
       "    </tr>\n",
       "    <tr>\n",
       "      <th>1</th>\n",
       "      <td>1</td>\n",
       "      <td>Andhra Pradesh</td>\n",
       "      <td>17746.0</td>\n",
       "      <td>17089.0</td>\n",
       "      <td>17752.0</td>\n",
       "      <td>264.2</td>\n",
       "      <td>67.2</td>\n",
       "      <td>93.5</td>\n",
       "    </tr>\n",
       "    <tr>\n",
       "      <th>2</th>\n",
       "      <td>2</td>\n",
       "      <td>Arunachal Pradesh</td>\n",
       "      <td>317.0</td>\n",
       "      <td>281.0</td>\n",
       "      <td>366.0</td>\n",
       "      <td>7.5</td>\n",
       "      <td>49.1</td>\n",
       "      <td>77.6</td>\n",
       "    </tr>\n",
       "    <tr>\n",
       "      <th>3</th>\n",
       "      <td>3</td>\n",
       "      <td>Assam</td>\n",
       "      <td>30025.0</td>\n",
       "      <td>26352.0</td>\n",
       "      <td>29046.0</td>\n",
       "      <td>172.6</td>\n",
       "      <td>168.3</td>\n",
       "      <td>52.9</td>\n",
       "    </tr>\n",
       "    <tr>\n",
       "      <th>4</th>\n",
       "      <td>4</td>\n",
       "      <td>Bihar</td>\n",
       "      <td>18587.0</td>\n",
       "      <td>15359.0</td>\n",
       "      <td>17950.0</td>\n",
       "      <td>593.7</td>\n",
       "      <td>30.2</td>\n",
       "      <td>69.4</td>\n",
       "    </tr>\n",
       "  </tbody>\n",
       "</table>\n",
       "</div>"
      ],
      "text/plain": [
       "        SL           State_UT  Year_2019  Year_2020  Year_2021  \\\n",
       "0  STATES:                NaN        NaN        NaN        NaN   \n",
       "1        1     Andhra Pradesh    17746.0    17089.0    17752.0   \n",
       "2        2  Arunachal Pradesh      317.0      281.0      366.0   \n",
       "3        3              Assam    30025.0    26352.0    29046.0   \n",
       "4        4              Bihar    18587.0    15359.0    17950.0   \n",
       "\n",
       "   Mid_Year_Projected_Population_In_Lakhs_2021  \\\n",
       "0                                          NaN   \n",
       "1                                        264.2   \n",
       "2                                          7.5   \n",
       "3                                        172.6   \n",
       "4                                        593.7   \n",
       "\n",
       "   Rate_Of_Total_Crime _Against_Women_2021  Chargesheeting_Rate_2021  \n",
       "0                                      NaN                       NaN  \n",
       "1                                     67.2                      93.5  \n",
       "2                                     49.1                      77.6  \n",
       "3                                    168.3                      52.9  \n",
       "4                                     30.2                      69.4  "
      ]
     },
     "execution_count": 1,
     "metadata": {},
     "output_type": "execute_result"
    }
   ],
   "source": [
    "#Exploratory data analysis: Crime against women in India #Reference to Task1 in Internship tasks\n",
    "#importing basic necessities\n",
    "import pandas as pd\n",
    "import numpy as np\n",
    "import matplotlib.pyplot as plt\n",
    "import seaborn as sns\n",
    "#reading dataset\n",
    "data= pd.read_csv('Crime In India.csv')\n",
    "data.head()\n"
   ]
  },
  {
   "cell_type": "code",
   "execution_count": 2,
   "id": "1b7aa48b",
   "metadata": {},
   "outputs": [
    {
     "data": {
      "text/plain": [
       "(42, 8)"
      ]
     },
     "execution_count": 2,
     "metadata": {},
     "output_type": "execute_result"
    }
   ],
   "source": [
    "data.shape\n"
   ]
  },
  {
   "cell_type": "code",
   "execution_count": 3,
   "id": "7c9d4192",
   "metadata": {},
   "outputs": [
    {
     "data": {
      "text/plain": [
       "Index(['SL', 'State_UT', 'Year_2019', 'Year_2020', 'Year_2021',\n",
       "       'Mid_Year_Projected_Population_In_Lakhs_2021',\n",
       "       'Rate_Of_Total_Crime _Against_Women_2021', 'Chargesheeting_Rate_2021'],\n",
       "      dtype='object')"
      ]
     },
     "execution_count": 3,
     "metadata": {},
     "output_type": "execute_result"
    }
   ],
   "source": [
    "data.columns\n"
   ]
  },
  {
   "cell_type": "code",
   "execution_count": 4,
   "id": "d9ec3d1a",
   "metadata": {},
   "outputs": [
    {
     "data": {
      "text/plain": [
       "<bound method DataFrame.info of                     SL                     State_UT  Year_2019  Year_2020  \\\n",
       "0              STATES:                          NaN        NaN        NaN   \n",
       "1                    1               Andhra Pradesh    17746.0    17089.0   \n",
       "2                    2            Arunachal Pradesh      317.0      281.0   \n",
       "3                    3                        Assam    30025.0    26352.0   \n",
       "4                    4                        Bihar    18587.0    15359.0   \n",
       "5                    5                 Chhattisgarh     7689.0     7385.0   \n",
       "6                    6                          Goa      329.0      219.0   \n",
       "7                    7                      Gujarat     8799.0     8028.0   \n",
       "8                    8                      Haryana    14683.0    13000.0   \n",
       "9                    9             Himachal Pradesh     1636.0     1614.0   \n",
       "10                  10                    Jharkhand     8760.0     7630.0   \n",
       "11                  11                    Karnataka    13828.0    12680.0   \n",
       "12                  12                       Kerala    11462.0    10139.0   \n",
       "13                  13               Madhya Pradesh    27560.0    25640.0   \n",
       "14                  14                  Maharashtra    37144.0    31954.0   \n",
       "15                  15                      Manipur      266.0      247.0   \n",
       "16                  16                    Meghalaya      558.0      568.0   \n",
       "17                  17                      Mizoram      170.0      172.0   \n",
       "18                  18                     Nagaland       43.0       39.0   \n",
       "19                  19                       Odisha    23183.0    25489.0   \n",
       "20                  20                       Punjab     5886.0     4838.0   \n",
       "21                  21                    Rajasthan    41550.0    34535.0   \n",
       "22                  22                       Sikkim      125.0      140.0   \n",
       "23                  23                   Tamil Nadu     5934.0     6630.0   \n",
       "24                  24                    Telangana    18394.0    17791.0   \n",
       "25                  25                      Tripura     1070.0      874.0   \n",
       "26                  26                Uttar Pradesh    59853.0    49385.0   \n",
       "27                  27                  Uttarakhand     2541.0     2846.0   \n",
       "28                  28                  West Bengal    29859.0    36439.0   \n",
       "29                 NaN               TOTAL STATE(S)   387997.0   357363.0   \n",
       "30  UNION TERRITORIES:                          NaN        NaN        NaN   \n",
       "31                  29                  A&N Islands      135.0      143.0   \n",
       "32                  30                   Chandigarh      515.0      301.0   \n",
       "33                  31  D&N Haveli and Daman & Diu+       82.0       61.0   \n",
       "34                  32                        Delhi    13395.0    10093.0   \n",
       "35                  33             Jammu & Kashmir*     3069.0     3405.0   \n",
       "36                  34                     Ladakh @        NaN        9.0   \n",
       "37                  35                  Lakshadweep       38.0       15.0   \n",
       "38                  36                   Puducherry       95.0      113.0   \n",
       "39                 NaN                  TOTAL UT(S)    17329.0    14140.0   \n",
       "40                 NaN                          NaN        NaN        NaN   \n",
       "41                 NaN              TOTAL ALL INDIA   405326.0   371503.0   \n",
       "\n",
       "    Year_2021  Mid_Year_Projected_Population_In_Lakhs_2021  \\\n",
       "0         NaN                                          NaN   \n",
       "1     17752.0                                        264.2   \n",
       "2       366.0                                          7.5   \n",
       "3     29046.0                                        172.6   \n",
       "4     17950.0                                        593.7   \n",
       "5      7344.0                                        147.6   \n",
       "6       224.0                                          7.7   \n",
       "7      7348.0                                        333.2   \n",
       "8     16658.0                                        139.2   \n",
       "9      1599.0                                         36.5   \n",
       "10     8110.0                                        188.5   \n",
       "11    14468.0                                        330.0   \n",
       "12    13539.0                                        184.7   \n",
       "13    30673.0                                        410.8   \n",
       "14    39526.0                                        598.9   \n",
       "15      302.0                                         15.8   \n",
       "16      685.0                                         16.4   \n",
       "17      176.0                                          6.0   \n",
       "18       54.0                                         10.6   \n",
       "19    31352.0                                        227.4   \n",
       "20     5662.0                                        144.3   \n",
       "21    40738.0                                        386.7   \n",
       "22      130.0                                          3.2   \n",
       "23     8501.0                                        382.8   \n",
       "24    20865.0                                        187.7   \n",
       "25      807.0                                         20.1   \n",
       "26    56083.0                                       1109.6   \n",
       "27     3431.0                                         55.8   \n",
       "28    35884.0                                        481.2   \n",
       "29   409273.0                                       6462.7   \n",
       "30        NaN                                          NaN   \n",
       "31      169.0                                          1.9   \n",
       "32      343.0                                          5.6   \n",
       "33       99.0                                          3.9   \n",
       "34    14277.0                                         96.7   \n",
       "35     3937.0                                         64.0   \n",
       "36       18.0                                          1.3   \n",
       "37        9.0                                          0.3   \n",
       "38      153.0                                          8.3   \n",
       "39    19005.0                                        181.9   \n",
       "40        NaN                                          NaN   \n",
       "41   428278.0                                       6644.7   \n",
       "\n",
       "    Rate_Of_Total_Crime _Against_Women_2021  Chargesheeting_Rate_2021  \n",
       "0                                       NaN                       NaN  \n",
       "1                                      67.2                      93.5  \n",
       "2                                      49.1                      77.6  \n",
       "3                                     168.3                      52.9  \n",
       "4                                      30.2                      69.4  \n",
       "5                                      49.8                      88.5  \n",
       "6                                      28.9                      77.4  \n",
       "7                                      22.1                      93.3  \n",
       "8                                     119.7                      57.1  \n",
       "9                                      43.8                      76.5  \n",
       "10                                     43.0                      79.7  \n",
       "11                                     43.8                      87.2  \n",
       "12                                     73.3                      94.6  \n",
       "13                                     74.7                      83.7  \n",
       "14                                     66.0                      82.4  \n",
       "15                                     19.1                      48.4  \n",
       "16                                     41.7                      76.1  \n",
       "17                                     29.1                      94.9  \n",
       "18                                      5.1                      80.4  \n",
       "19                                    137.8                      80.1  \n",
       "20                                     39.2                      75.3  \n",
       "21                                    105.4                      54.5  \n",
       "22                                     40.6                      98.3  \n",
       "23                                     22.2                      87.5  \n",
       "24                                    111.2                      87.8  \n",
       "25                                     40.2                      84.7  \n",
       "26                                     50.5                      76.5  \n",
       "27                                     61.5                      81.5  \n",
       "28                                     74.6                      93.7  \n",
       "29                                     63.3                      77.3  \n",
       "30                                      NaN                       NaN  \n",
       "31                                     89.4                      97.1  \n",
       "32                                     61.7                      51.0  \n",
       "33                                     25.3                      74.0  \n",
       "34                                    147.6                      71.2  \n",
       "35                                     61.6                      72.5  \n",
       "36                                     13.8                      85.7  \n",
       "37                                     27.3                      80.0  \n",
       "38                                     18.5                      97.6  \n",
       "39                                    104.5                      71.6  \n",
       "40                                      NaN                       NaN  \n",
       "41                                     64.5                      77.1  >"
      ]
     },
     "execution_count": 4,
     "metadata": {},
     "output_type": "execute_result"
    }
   ],
   "source": [
    "data.info\n"
   ]
  },
  {
   "cell_type": "code",
   "execution_count": 5,
   "id": "620e6b9b",
   "metadata": {},
   "outputs": [
    {
     "data": {
      "text/plain": [
       "SL                                             4\n",
       "State_UT                                       3\n",
       "Year_2019                                      4\n",
       "Year_2020                                      3\n",
       "Year_2021                                      3\n",
       "Mid_Year_Projected_Population_In_Lakhs_2021    3\n",
       "Rate_Of_Total_Crime _Against_Women_2021        3\n",
       "Chargesheeting_Rate_2021                       3\n",
       "dtype: int64"
      ]
     },
     "execution_count": 5,
     "metadata": {},
     "output_type": "execute_result"
    }
   ],
   "source": [
    "#checking for missing values\n",
    "data.isnull().sum()\n"
   ]
  },
  {
   "cell_type": "code",
   "execution_count": 6,
   "id": "35b3cd0c",
   "metadata": {},
   "outputs": [
    {
     "data": {
      "text/html": [
       "<div>\n",
       "<style scoped>\n",
       "    .dataframe tbody tr th:only-of-type {\n",
       "        vertical-align: middle;\n",
       "    }\n",
       "\n",
       "    .dataframe tbody tr th {\n",
       "        vertical-align: top;\n",
       "    }\n",
       "\n",
       "    .dataframe thead th {\n",
       "        text-align: right;\n",
       "    }\n",
       "</style>\n",
       "<table border=\"1\" class=\"dataframe\">\n",
       "  <thead>\n",
       "    <tr style=\"text-align: right;\">\n",
       "      <th></th>\n",
       "      <th>SL</th>\n",
       "      <th>State_UT</th>\n",
       "      <th>Year_2019</th>\n",
       "      <th>Year_2020</th>\n",
       "      <th>Year_2021</th>\n",
       "      <th>Mid_Year_Projected_Population_In_Lakhs_2021</th>\n",
       "      <th>Rate_Of_Total_Crime _Against_Women_2021</th>\n",
       "      <th>Chargesheeting_Rate_2021</th>\n",
       "    </tr>\n",
       "  </thead>\n",
       "  <tbody>\n",
       "    <tr>\n",
       "      <th>1</th>\n",
       "      <td>1</td>\n",
       "      <td>Andhra Pradesh</td>\n",
       "      <td>17746.0</td>\n",
       "      <td>17089.0</td>\n",
       "      <td>17752.0</td>\n",
       "      <td>264.2</td>\n",
       "      <td>67.2</td>\n",
       "      <td>93.5</td>\n",
       "    </tr>\n",
       "    <tr>\n",
       "      <th>2</th>\n",
       "      <td>2</td>\n",
       "      <td>Arunachal Pradesh</td>\n",
       "      <td>317.0</td>\n",
       "      <td>281.0</td>\n",
       "      <td>366.0</td>\n",
       "      <td>7.5</td>\n",
       "      <td>49.1</td>\n",
       "      <td>77.6</td>\n",
       "    </tr>\n",
       "    <tr>\n",
       "      <th>3</th>\n",
       "      <td>3</td>\n",
       "      <td>Assam</td>\n",
       "      <td>30025.0</td>\n",
       "      <td>26352.0</td>\n",
       "      <td>29046.0</td>\n",
       "      <td>172.6</td>\n",
       "      <td>168.3</td>\n",
       "      <td>52.9</td>\n",
       "    </tr>\n",
       "    <tr>\n",
       "      <th>4</th>\n",
       "      <td>4</td>\n",
       "      <td>Bihar</td>\n",
       "      <td>18587.0</td>\n",
       "      <td>15359.0</td>\n",
       "      <td>17950.0</td>\n",
       "      <td>593.7</td>\n",
       "      <td>30.2</td>\n",
       "      <td>69.4</td>\n",
       "    </tr>\n",
       "    <tr>\n",
       "      <th>5</th>\n",
       "      <td>5</td>\n",
       "      <td>Chhattisgarh</td>\n",
       "      <td>7689.0</td>\n",
       "      <td>7385.0</td>\n",
       "      <td>7344.0</td>\n",
       "      <td>147.6</td>\n",
       "      <td>49.8</td>\n",
       "      <td>88.5</td>\n",
       "    </tr>\n",
       "  </tbody>\n",
       "</table>\n",
       "</div>"
      ],
      "text/plain": [
       "  SL           State_UT  Year_2019  Year_2020  Year_2021  \\\n",
       "1  1     Andhra Pradesh    17746.0    17089.0    17752.0   \n",
       "2  2  Arunachal Pradesh      317.0      281.0      366.0   \n",
       "3  3              Assam    30025.0    26352.0    29046.0   \n",
       "4  4              Bihar    18587.0    15359.0    17950.0   \n",
       "5  5       Chhattisgarh     7689.0     7385.0     7344.0   \n",
       "\n",
       "   Mid_Year_Projected_Population_In_Lakhs_2021  \\\n",
       "1                                        264.2   \n",
       "2                                          7.5   \n",
       "3                                        172.6   \n",
       "4                                        593.7   \n",
       "5                                        147.6   \n",
       "\n",
       "   Rate_Of_Total_Crime _Against_Women_2021  Chargesheeting_Rate_2021  \n",
       "1                                     67.2                      93.5  \n",
       "2                                     49.1                      77.6  \n",
       "3                                    168.3                      52.9  \n",
       "4                                     30.2                      69.4  \n",
       "5                                     49.8                      88.5  "
      ]
     },
     "execution_count": 6,
     "metadata": {},
     "output_type": "execute_result"
    }
   ],
   "source": [
    "#The missing values correspond to the NaN values in the rows of State and UT and hence we can remove them\n",
    "data= data[~np.isnan(data['Year_2019'])]\n",
    "data.head()\n"
   ]
  },
  {
   "cell_type": "code",
   "execution_count": 8,
   "id": "567e2642",
   "metadata": {},
   "outputs": [
    {
     "data": {
      "text/plain": [
       "SL                                             3\n",
       "State_UT                                       0\n",
       "Year_2019                                      0\n",
       "Year_2020                                      0\n",
       "Year_2021                                      0\n",
       "Mid_Year_Projected_Population_In_Lakhs_2021    0\n",
       "Rate_Of_Total_Crime _Against_Women_2021        0\n",
       "Chargesheeting_Rate_2021                       0\n",
       "dtype: int64"
      ]
     },
     "execution_count": 8,
     "metadata": {},
     "output_type": "execute_result"
    }
   ],
   "source": [
    "data.isnull().sum()\n",
    "\n"
   ]
  },
  {
   "cell_type": "code",
   "execution_count": 9,
   "id": "8cd8dbf8",
   "metadata": {},
   "outputs": [
    {
     "data": {
      "text/html": [
       "<div>\n",
       "<style scoped>\n",
       "    .dataframe tbody tr th:only-of-type {\n",
       "        vertical-align: middle;\n",
       "    }\n",
       "\n",
       "    .dataframe tbody tr th {\n",
       "        vertical-align: top;\n",
       "    }\n",
       "\n",
       "    .dataframe thead th {\n",
       "        text-align: right;\n",
       "    }\n",
       "</style>\n",
       "<table border=\"1\" class=\"dataframe\">\n",
       "  <thead>\n",
       "    <tr style=\"text-align: right;\">\n",
       "      <th></th>\n",
       "      <th>State_UT</th>\n",
       "      <th>Year_2019</th>\n",
       "      <th>Year_2020</th>\n",
       "      <th>Year_2021</th>\n",
       "      <th>Mid_Year_Projected_Population_In_Lakhs_2021</th>\n",
       "      <th>Rate_Of_Total_Crime _Against_Women_2021</th>\n",
       "      <th>Chargesheeting_Rate_2021</th>\n",
       "    </tr>\n",
       "  </thead>\n",
       "  <tbody>\n",
       "    <tr>\n",
       "      <th>1</th>\n",
       "      <td>Andhra Pradesh</td>\n",
       "      <td>17746.0</td>\n",
       "      <td>17089.0</td>\n",
       "      <td>17752.0</td>\n",
       "      <td>264.2</td>\n",
       "      <td>67.2</td>\n",
       "      <td>93.5</td>\n",
       "    </tr>\n",
       "    <tr>\n",
       "      <th>2</th>\n",
       "      <td>Arunachal Pradesh</td>\n",
       "      <td>317.0</td>\n",
       "      <td>281.0</td>\n",
       "      <td>366.0</td>\n",
       "      <td>7.5</td>\n",
       "      <td>49.1</td>\n",
       "      <td>77.6</td>\n",
       "    </tr>\n",
       "    <tr>\n",
       "      <th>3</th>\n",
       "      <td>Assam</td>\n",
       "      <td>30025.0</td>\n",
       "      <td>26352.0</td>\n",
       "      <td>29046.0</td>\n",
       "      <td>172.6</td>\n",
       "      <td>168.3</td>\n",
       "      <td>52.9</td>\n",
       "    </tr>\n",
       "    <tr>\n",
       "      <th>4</th>\n",
       "      <td>Bihar</td>\n",
       "      <td>18587.0</td>\n",
       "      <td>15359.0</td>\n",
       "      <td>17950.0</td>\n",
       "      <td>593.7</td>\n",
       "      <td>30.2</td>\n",
       "      <td>69.4</td>\n",
       "    </tr>\n",
       "    <tr>\n",
       "      <th>5</th>\n",
       "      <td>Chhattisgarh</td>\n",
       "      <td>7689.0</td>\n",
       "      <td>7385.0</td>\n",
       "      <td>7344.0</td>\n",
       "      <td>147.6</td>\n",
       "      <td>49.8</td>\n",
       "      <td>88.5</td>\n",
       "    </tr>\n",
       "  </tbody>\n",
       "</table>\n",
       "</div>"
      ],
      "text/plain": [
       "            State_UT  Year_2019  Year_2020  Year_2021  \\\n",
       "1     Andhra Pradesh    17746.0    17089.0    17752.0   \n",
       "2  Arunachal Pradesh      317.0      281.0      366.0   \n",
       "3              Assam    30025.0    26352.0    29046.0   \n",
       "4              Bihar    18587.0    15359.0    17950.0   \n",
       "5       Chhattisgarh     7689.0     7385.0     7344.0   \n",
       "\n",
       "   Mid_Year_Projected_Population_In_Lakhs_2021  \\\n",
       "1                                        264.2   \n",
       "2                                          7.5   \n",
       "3                                        172.6   \n",
       "4                                        593.7   \n",
       "5                                        147.6   \n",
       "\n",
       "   Rate_Of_Total_Crime _Against_Women_2021  Chargesheeting_Rate_2021  \n",
       "1                                     67.2                      93.5  \n",
       "2                                     49.1                      77.6  \n",
       "3                                    168.3                      52.9  \n",
       "4                                     30.2                      69.4  \n",
       "5                                     49.8                      88.5  "
      ]
     },
     "execution_count": 9,
     "metadata": {},
     "output_type": "execute_result"
    }
   ],
   "source": [
    "#Drop the SL column\n",
    "data= data.drop('SL',axis=1)\n",
    "data.head()\n"
   ]
  },
  {
   "cell_type": "code",
   "execution_count": 10,
   "id": "a16937e9",
   "metadata": {},
   "outputs": [
    {
     "name": "stderr",
     "output_type": "stream",
     "text": [
      "c:\\users\\user\\appdata\\local\\programs\\python\\python36\\lib\\site-packages\\seaborn\\_decorators.py:43: FutureWarning: Pass the following variable as a keyword arg: x. From version 0.12, the only valid positional argument will be `data`, and passing other arguments without an explicit keyword will result in an error or misinterpretation.\n",
      "  FutureWarning\n",
      "c:\\users\\user\\appdata\\local\\programs\\python\\python36\\lib\\site-packages\\seaborn\\_decorators.py:43: FutureWarning: Pass the following variable as a keyword arg: x. From version 0.12, the only valid positional argument will be `data`, and passing other arguments without an explicit keyword will result in an error or misinterpretation.\n",
      "  FutureWarning\n",
      "c:\\users\\user\\appdata\\local\\programs\\python\\python36\\lib\\site-packages\\seaborn\\_decorators.py:43: FutureWarning: Pass the following variable as a keyword arg: x. From version 0.12, the only valid positional argument will be `data`, and passing other arguments without an explicit keyword will result in an error or misinterpretation.\n",
      "  FutureWarning\n",
      "c:\\users\\user\\appdata\\local\\programs\\python\\python36\\lib\\site-packages\\seaborn\\_decorators.py:43: FutureWarning: Pass the following variable as a keyword arg: x. From version 0.12, the only valid positional argument will be `data`, and passing other arguments without an explicit keyword will result in an error or misinterpretation.\n",
      "  FutureWarning\n"
     ]
    },
    {
     "data": {
      "text/plain": [
       "<AxesSubplot:xlabel='Rate_Of_Total_Crime _Against_Women_2021'>"
      ]
     },
     "execution_count": 10,
     "metadata": {},
     "output_type": "execute_result"
    },
    {
     "data": {
      "image/png": "[encoded data removed]",
      "text/plain": [
       "<Figure size 864x216 with 4 Axes>"
      ]
     },
     "metadata": {
      "needs_background": "light"
     },
     "output_type": "display_data"
    }
   ],
   "source": [
    "#Checking for univariate outliers\n",
    "plt.rcParams['figure.figsize']=(12,3)\n",
    "plt.subplot(1,4,1)\n",
    "sns.boxplot(data['Year_2019'])\n",
    "plt.subplot(1,4,2)\n",
    "sns.boxplot(data['Year_2020'])\n",
    "plt.subplot(1,4,3)\n",
    "sns.boxplot(data['Year_2021'])\n",
    "plt.subplot(1,4,4)\n",
    "sns.boxplot(data['Rate_Of_Total_Crime _Against_Women_2021'])\n"
   ]
  },
  {
   "cell_type": "code",
   "execution_count": 13,
   "id": "5b8709f3",
   "metadata": {},
   "outputs": [
    {
     "data": {
      "text/html": [
       "<div>\n",
       "<style scoped>\n",
       "    .dataframe tbody tr th:only-of-type {\n",
       "        vertical-align: middle;\n",
       "    }\n",
       "\n",
       "    .dataframe tbody tr th {\n",
       "        vertical-align: top;\n",
       "    }\n",
       "\n",
       "    .dataframe thead th {\n",
       "        text-align: right;\n",
       "    }\n",
       "</style>\n",
       "<table border=\"1\" class=\"dataframe\">\n",
       "  <thead>\n",
       "    <tr style=\"text-align: right;\">\n",
       "      <th></th>\n",
       "      <th>Year_2019</th>\n",
       "      <th>Year_2020</th>\n",
       "      <th>Year_2021</th>\n",
       "      <th>Mid_Year_Projected_Population_In_Lakhs_2021</th>\n",
       "      <th>Rate_Of_Total_Crime _Against_Women_2021</th>\n",
       "      <th>Chargesheeting_Rate_2021</th>\n",
       "    </tr>\n",
       "  </thead>\n",
       "  <tbody>\n",
       "    <tr>\n",
       "      <th>count</th>\n",
       "      <td>38.000000</td>\n",
       "      <td>38.000000</td>\n",
       "      <td>38.000000</td>\n",
       "      <td>38.000000</td>\n",
       "      <td>38.00000</td>\n",
       "      <td>38.000000</td>\n",
       "    </tr>\n",
       "    <tr>\n",
       "      <th>mean</th>\n",
       "      <td>31999.421053</td>\n",
       "      <td>29328.947368</td>\n",
       "      <td>33810.947368</td>\n",
       "      <td>524.544737</td>\n",
       "      <td>61.10000</td>\n",
       "      <td>79.023684</td>\n",
       "    </tr>\n",
       "    <tr>\n",
       "      <th>std</th>\n",
       "      <td>88228.692948</td>\n",
       "      <td>81017.977984</td>\n",
       "      <td>93074.395583</td>\n",
       "      <td>1458.359654</td>\n",
       "      <td>38.29272</td>\n",
       "      <td>13.110063</td>\n",
       "    </tr>\n",
       "    <tr>\n",
       "      <th>min</th>\n",
       "      <td>38.000000</td>\n",
       "      <td>15.000000</td>\n",
       "      <td>9.000000</td>\n",
       "      <td>0.300000</td>\n",
       "      <td>5.10000</td>\n",
       "      <td>48.400000</td>\n",
       "    </tr>\n",
       "    <tr>\n",
       "      <th>25%</th>\n",
       "      <td>375.500000</td>\n",
       "      <td>286.000000</td>\n",
       "      <td>348.750000</td>\n",
       "      <td>11.900000</td>\n",
       "      <td>32.45000</td>\n",
       "      <td>74.325000</td>\n",
       "    </tr>\n",
       "    <tr>\n",
       "      <th>50%</th>\n",
       "      <td>8224.500000</td>\n",
       "      <td>7507.500000</td>\n",
       "      <td>7729.000000</td>\n",
       "      <td>145.950000</td>\n",
       "      <td>50.15000</td>\n",
       "      <td>79.850000</td>\n",
       "    </tr>\n",
       "    <tr>\n",
       "      <th>75%</th>\n",
       "      <td>18538.750000</td>\n",
       "      <td>17615.500000</td>\n",
       "      <td>20400.000000</td>\n",
       "      <td>332.400000</td>\n",
       "      <td>74.27500</td>\n",
       "      <td>87.725000</td>\n",
       "    </tr>\n",
       "    <tr>\n",
       "      <th>max</th>\n",
       "      <td>405326.000000</td>\n",
       "      <td>371503.000000</td>\n",
       "      <td>428278.000000</td>\n",
       "      <td>6644.700000</td>\n",
       "      <td>168.30000</td>\n",
       "      <td>98.300000</td>\n",
       "    </tr>\n",
       "  </tbody>\n",
       "</table>\n",
       "</div>"
      ],
      "text/plain": [
       "           Year_2019      Year_2020      Year_2021  \\\n",
       "count      38.000000      38.000000      38.000000   \n",
       "mean    31999.421053   29328.947368   33810.947368   \n",
       "std     88228.692948   81017.977984   93074.395583   \n",
       "min        38.000000      15.000000       9.000000   \n",
       "25%       375.500000     286.000000     348.750000   \n",
       "50%      8224.500000    7507.500000    7729.000000   \n",
       "75%     18538.750000   17615.500000   20400.000000   \n",
       "max    405326.000000  371503.000000  428278.000000   \n",
       "\n",
       "       Mid_Year_Projected_Population_In_Lakhs_2021  \\\n",
       "count                                    38.000000   \n",
       "mean                                    524.544737   \n",
       "std                                    1458.359654   \n",
       "min                                       0.300000   \n",
       "25%                                      11.900000   \n",
       "50%                                     145.950000   \n",
       "75%                                     332.400000   \n",
       "max                                    6644.700000   \n",
       "\n",
       "       Rate_Of_Total_Crime _Against_Women_2021  Chargesheeting_Rate_2021  \n",
       "count                                 38.00000                 38.000000  \n",
       "mean                                  61.10000                 79.023684  \n",
       "std                                   38.29272                 13.110063  \n",
       "min                                    5.10000                 48.400000  \n",
       "25%                                   32.45000                 74.325000  \n",
       "50%                                   50.15000                 79.850000  \n",
       "75%                                   74.27500                 87.725000  \n",
       "max                                  168.30000                 98.300000  "
      ]
     },
     "execution_count": 13,
     "metadata": {},
     "output_type": "execute_result"
    }
   ],
   "source": [
    "#Finding descriptive statistics\n",
    "data.describe()\n"
   ]
  },
  {
   "cell_type": "code",
   "execution_count": 15,
   "id": "d2258664",
   "metadata": {},
   "outputs": [
    {
     "data": {
      "image/png": "[encoded data removed]",
      "text/plain": [
       "<Figure size 864x216 with 1 Axes>"
      ]
     },
     "metadata": {
      "needs_background": "light"
     },
     "output_type": "display_data"
    }
   ],
   "source": [
    "#Histogram\n",
    "plt.hist(data['Chargesheeting_Rate_2021'])\n",
    "\n",
    "plt.title(\"Histogram\")\n",
    "\n",
    "plt.show()\n"
   ]
  },
  {
   "cell_type": "code",
   "execution_count": 29,
   "id": "00953461",
   "metadata": {},
   "outputs": [
    {
     "data": {
      "image/png": "[encoded data removed]",
      "text/plain": [
       "<Figure size 864x216 with 1 Axes>"
      ]
     },
     "metadata": {
      "needs_background": "light"
     },
     "output_type": "display_data"
    }
   ],
   "source": [
    "#Line chart with year against own\n",
    "plt.plot(data['Rate_Of_Total_Crime _Against_Women_2021'],color='darkslategrey')\n",
    "plt.plot(data['Chargesheeting_Rate_2021'],color='deeppink')\n",
    "\n",
    "#adding title to the plot\n",
    "plt.title(\"Line chart\")\n",
    "\n",
    "#setting the x and y labels\n",
    "plt.xlabel('Rate_Of_Total_Crime _Against_Women_2021')\n",
    "plt.ylabel('Chargesheeting_Rate_2021')\n",
    "\n",
    "#adding the legends\n",
    "plt.show()\n"
   ]
  },
  {
   "cell_type": "code",
   "execution_count": 23,
   "id": "d6f86c10",
   "metadata": {},
   "outputs": [
    {
     "data": {
      "image/png": "[encoded data removed]",
      "text/plain": [
       "<Figure size 1440x1080 with 6 Axes>"
      ]
     },
     "metadata": {
      "needs_background": "light"
     },
     "output_type": "display_data"
    }
   ],
   "source": [
    "data.hist(bins= 50, grid= False, figsize=(20,15));\n"
   ]
  },
  {
   "cell_type": "code",
   "execution_count": 24,
   "id": "b4ad219a",
   "metadata": {},
   "outputs": [
    {
     "data": {
      "image/png": "[encoded data removed]",
      "text/plain": [
       "<Figure size 864x216 with 1 Axes>"
      ]
     },
     "metadata": {
      "needs_background": "light"
     },
     "output_type": "display_data"
    }
   ],
   "source": [
    "#Finding scatter plot of Crime rate and mid year projected population \n",
    "#scatter plot with year against own\n",
    "plt.scatter(data['Mid_Year_Projected_Population_In_Lakhs_2021'],data['Rate_Of_Total_Crime _Against_Women_2021'])\n",
    "\n",
    "#adding title to the plot\n",
    "plt.title(\"Scatter Plot\")\n",
    "\n",
    "#setting the x and y labels\n",
    "plt.xlabel('Mid_Year_Projected_Population_In_Lakhs_2021')\n",
    "plt.ylabel('Rate_Of_Total_Crime _Against_Women_2021')\n",
    "\n",
    "#adding the legends\n",
    "plt.show()\n"
   ]
  },
  {
   "cell_type": "code",
   "execution_count": 25,
   "id": "a86ce65d",
   "metadata": {},
   "outputs": [
    {
     "data": {
      "text/plain": [
       "<AxesSubplot:>"
      ]
     },
     "execution_count": 25,
     "metadata": {},
     "output_type": "execute_result"
    },
    {
     "data": {
      "image/png": "[encoded data removed]",
      "text/plain": [
       "<Figure size 720x720 with 2 Axes>"
      ]
     },
     "metadata": {
      "needs_background": "light"
     },
     "output_type": "display_data"
    }
   ],
   "source": [
    "#Plotting heatmap to gain further insights\n",
    "fig,ax= plt.subplots(figsize=(10,10))\n",
    "corr= data.corr()\n",
    "sns.heatmap(corr,annot=True,ax=ax)\n"
   ]
  },
  {
   "cell_type": "code",
   "execution_count": null,
   "id": "db0d9075",
   "metadata": {},
   "outputs": [],
   "source": [
    "# It is oberserved that the columns Rate_Of_Total_Crime _Against_Women_2021 and Chargesheeting_Rate_2021 have a negative correlation (-0.3) in between \n",
    "#As per data.tail() , the total crime rate against women in India in 2021 was 64.5% and chargesheet rate was 77.1%"
   ]
  }
 ],
 "metadata": {
  "kernelspec": {
   "display_name": "Python 3",
   "language": "python",
   "name": "python3"
  },
  "language_info": {
   "codemirror_mode": {
    "name": "ipython",
    "version": 3
   },
   "file_extension": ".py",
   "mimetype": "text/x-python",
   "name": "python",
   "nbconvert_exporter": "python",
   "pygments_lexer": "ipython3",
   "version": "3.6.8"
  }
 },
 "nbformat": 4,
 "nbformat_minor": 5
}
